{
  "nbformat": 4,
  "nbformat_minor": 0,
  "metadata": {
    "colab": {
      "name": "fake_currency_detector.ipynb",
      "provenance": [],
      "collapsed_sections": []
    },
    "kernelspec": {
      "name": "python3",
      "display_name": "Python 3"
    },
    "language_info": {
      "name": "python"
    }
  },
  "cells": [
    {
      "cell_type": "code",
      "metadata": {
        "id": "5-e0ocygsasa"
      },
      "source": [
        "import numpy as np\n",
        "import pandas as pd\n",
        "import matplotlib.pyplot as plt\n",
        "from sklearn.model_selection import train_test_split \n",
        "from sklearn.linear_model import LogisticRegression\n",
        "#from sklearn import metrics\n",
        "from sklearn.metrics import accuracy_score\n",
        "from sklearn.metrics import precision_score  \n",
        "from sklearn.metrics import recall_score\n",
        "import seaborn as sns"
      ],
      "execution_count": null,
      "outputs": []
    },
    {
      "cell_type": "code",
      "metadata": {
        "id": "e-w21Gh-stcP",
        "colab": {
          "base_uri": "https://localhost:8080/",
          "height": 665
        },
        "outputId": "f7a44876-06bc-45d5-cd18-a74bdcd25d02"
      },
      "source": [
        "dat=pd.read_csv('data_banknote_authentication.csv')\n",
        "dat.columns=['VarianceWT','SkewnessWT','CurtosisWT','Image Entropy','Class']\n",
        "dat.head(20)"
      ],
      "execution_count": null,
      "outputs": [
        {
          "output_type": "execute_result",
          "data": {
            "text/html": [
              "<div>\n",
              "<style scoped>\n",
              "    .dataframe tbody tr th:only-of-type {\n",
              "        vertical-align: middle;\n",
              "    }\n",
              "\n",
              "    .dataframe tbody tr th {\n",
              "        vertical-align: top;\n",
              "    }\n",
              "\n",
              "    .dataframe thead th {\n",
              "        text-align: right;\n",
              "    }\n",
              "</style>\n",
              "<table border=\"1\" class=\"dataframe\">\n",
              "  <thead>\n",
              "    <tr style=\"text-align: right;\">\n",
              "      <th></th>\n",
              "      <th>VarianceWT</th>\n",
              "      <th>SkewnessWT</th>\n",
              "      <th>CurtosisWT</th>\n",
              "      <th>Image Entropy</th>\n",
              "      <th>Class</th>\n",
              "    </tr>\n",
              "  </thead>\n",
              "  <tbody>\n",
              "    <tr>\n",
              "      <th>0</th>\n",
              "      <td>4.54590</td>\n",
              "      <td>8.1674</td>\n",
              "      <td>-2.45860</td>\n",
              "      <td>-1.46210</td>\n",
              "      <td>0</td>\n",
              "    </tr>\n",
              "    <tr>\n",
              "      <th>1</th>\n",
              "      <td>3.86600</td>\n",
              "      <td>-2.6383</td>\n",
              "      <td>1.92420</td>\n",
              "      <td>0.10645</td>\n",
              "      <td>0</td>\n",
              "    </tr>\n",
              "    <tr>\n",
              "      <th>2</th>\n",
              "      <td>3.45660</td>\n",
              "      <td>9.5228</td>\n",
              "      <td>-4.01120</td>\n",
              "      <td>-3.59440</td>\n",
              "      <td>0</td>\n",
              "    </tr>\n",
              "    <tr>\n",
              "      <th>3</th>\n",
              "      <td>0.32924</td>\n",
              "      <td>-4.4552</td>\n",
              "      <td>4.57180</td>\n",
              "      <td>-0.98880</td>\n",
              "      <td>0</td>\n",
              "    </tr>\n",
              "    <tr>\n",
              "      <th>4</th>\n",
              "      <td>4.36840</td>\n",
              "      <td>9.6718</td>\n",
              "      <td>-3.96060</td>\n",
              "      <td>-3.16250</td>\n",
              "      <td>0</td>\n",
              "    </tr>\n",
              "    <tr>\n",
              "      <th>5</th>\n",
              "      <td>3.59120</td>\n",
              "      <td>3.0129</td>\n",
              "      <td>0.72888</td>\n",
              "      <td>0.56421</td>\n",
              "      <td>0</td>\n",
              "    </tr>\n",
              "    <tr>\n",
              "      <th>6</th>\n",
              "      <td>2.09220</td>\n",
              "      <td>-6.8100</td>\n",
              "      <td>8.46360</td>\n",
              "      <td>-0.60216</td>\n",
              "      <td>0</td>\n",
              "    </tr>\n",
              "    <tr>\n",
              "      <th>7</th>\n",
              "      <td>3.20320</td>\n",
              "      <td>5.7588</td>\n",
              "      <td>-0.75345</td>\n",
              "      <td>-0.61251</td>\n",
              "      <td>0</td>\n",
              "    </tr>\n",
              "    <tr>\n",
              "      <th>8</th>\n",
              "      <td>1.53560</td>\n",
              "      <td>9.1772</td>\n",
              "      <td>-2.27180</td>\n",
              "      <td>-0.73535</td>\n",
              "      <td>0</td>\n",
              "    </tr>\n",
              "    <tr>\n",
              "      <th>9</th>\n",
              "      <td>1.22470</td>\n",
              "      <td>8.7779</td>\n",
              "      <td>-2.21350</td>\n",
              "      <td>-0.80647</td>\n",
              "      <td>0</td>\n",
              "    </tr>\n",
              "    <tr>\n",
              "      <th>10</th>\n",
              "      <td>3.98990</td>\n",
              "      <td>-2.7066</td>\n",
              "      <td>2.39460</td>\n",
              "      <td>0.86291</td>\n",
              "      <td>0</td>\n",
              "    </tr>\n",
              "    <tr>\n",
              "      <th>11</th>\n",
              "      <td>1.89930</td>\n",
              "      <td>7.6625</td>\n",
              "      <td>0.15394</td>\n",
              "      <td>-3.11080</td>\n",
              "      <td>0</td>\n",
              "    </tr>\n",
              "    <tr>\n",
              "      <th>12</th>\n",
              "      <td>-1.57680</td>\n",
              "      <td>10.8430</td>\n",
              "      <td>2.54620</td>\n",
              "      <td>-2.93620</td>\n",
              "      <td>0</td>\n",
              "    </tr>\n",
              "    <tr>\n",
              "      <th>13</th>\n",
              "      <td>3.40400</td>\n",
              "      <td>8.7261</td>\n",
              "      <td>-2.99150</td>\n",
              "      <td>-0.57242</td>\n",
              "      <td>0</td>\n",
              "    </tr>\n",
              "    <tr>\n",
              "      <th>14</th>\n",
              "      <td>4.67650</td>\n",
              "      <td>-3.3895</td>\n",
              "      <td>3.48960</td>\n",
              "      <td>1.47710</td>\n",
              "      <td>0</td>\n",
              "    </tr>\n",
              "    <tr>\n",
              "      <th>15</th>\n",
              "      <td>2.67190</td>\n",
              "      <td>3.0646</td>\n",
              "      <td>0.37158</td>\n",
              "      <td>0.58619</td>\n",
              "      <td>0</td>\n",
              "    </tr>\n",
              "    <tr>\n",
              "      <th>16</th>\n",
              "      <td>0.80355</td>\n",
              "      <td>2.8473</td>\n",
              "      <td>4.34390</td>\n",
              "      <td>0.60170</td>\n",
              "      <td>0</td>\n",
              "    </tr>\n",
              "    <tr>\n",
              "      <th>17</th>\n",
              "      <td>1.44790</td>\n",
              "      <td>-4.8794</td>\n",
              "      <td>8.34280</td>\n",
              "      <td>-2.10860</td>\n",
              "      <td>0</td>\n",
              "    </tr>\n",
              "    <tr>\n",
              "      <th>18</th>\n",
              "      <td>5.24230</td>\n",
              "      <td>11.0272</td>\n",
              "      <td>-4.35300</td>\n",
              "      <td>-4.10130</td>\n",
              "      <td>0</td>\n",
              "    </tr>\n",
              "    <tr>\n",
              "      <th>19</th>\n",
              "      <td>5.78670</td>\n",
              "      <td>7.8902</td>\n",
              "      <td>-2.61960</td>\n",
              "      <td>-0.48708</td>\n",
              "      <td>0</td>\n",
              "    </tr>\n",
              "  </tbody>\n",
              "</table>\n",
              "</div>"
            ],
            "text/plain": [
              "    VarianceWT  SkewnessWT  CurtosisWT  Image Entropy  Class\n",
              "0      4.54590      8.1674    -2.45860       -1.46210      0\n",
              "1      3.86600     -2.6383     1.92420        0.10645      0\n",
              "2      3.45660      9.5228    -4.01120       -3.59440      0\n",
              "3      0.32924     -4.4552     4.57180       -0.98880      0\n",
              "4      4.36840      9.6718    -3.96060       -3.16250      0\n",
              "5      3.59120      3.0129     0.72888        0.56421      0\n",
              "6      2.09220     -6.8100     8.46360       -0.60216      0\n",
              "7      3.20320      5.7588    -0.75345       -0.61251      0\n",
              "8      1.53560      9.1772    -2.27180       -0.73535      0\n",
              "9      1.22470      8.7779    -2.21350       -0.80647      0\n",
              "10     3.98990     -2.7066     2.39460        0.86291      0\n",
              "11     1.89930      7.6625     0.15394       -3.11080      0\n",
              "12    -1.57680     10.8430     2.54620       -2.93620      0\n",
              "13     3.40400      8.7261    -2.99150       -0.57242      0\n",
              "14     4.67650     -3.3895     3.48960        1.47710      0\n",
              "15     2.67190      3.0646     0.37158        0.58619      0\n",
              "16     0.80355      2.8473     4.34390        0.60170      0\n",
              "17     1.44790     -4.8794     8.34280       -2.10860      0\n",
              "18     5.24230     11.0272    -4.35300       -4.10130      0\n",
              "19     5.78670      7.8902    -2.61960       -0.48708      0"
            ]
          },
          "metadata": {},
          "execution_count": 3
        }
      ]
    },
    {
      "cell_type": "code",
      "metadata": {
        "id": "IhaqTvvyuHYH",
        "colab": {
          "base_uri": "https://localhost:8080/"
        },
        "outputId": "e3c73961-4221-4fd1-d2b5-962556ab5e0e"
      },
      "source": [
        "dat.isnull().any()"
      ],
      "execution_count": null,
      "outputs": [
        {
          "output_type": "execute_result",
          "data": {
            "text/plain": [
              "VarianceWT       False\n",
              "SkewnessWT       False\n",
              "CurtosisWT       False\n",
              "Image Entropy    False\n",
              "Class            False\n",
              "dtype: bool"
            ]
          },
          "metadata": {},
          "execution_count": 4
        }
      ]
    },
    {
      "cell_type": "code",
      "metadata": {
        "id": "yAOuioCRwqqU"
      },
      "source": [
        "x=dat[['VarianceWT','SkewnessWT','CurtosisWT','Image Entropy','Class']].values\n",
        "y=dat['Class'].values"
      ],
      "execution_count": null,
      "outputs": []
    },
    {
      "cell_type": "code",
      "metadata": {
        "id": "wIN7l6Sd3Bn8",
        "colab": {
          "base_uri": "https://localhost:8080/",
          "height": 386
        },
        "outputId": "06858533-4fce-4669-a9e4-acf24afeb5e5"
      },
      "source": [
        "sns.displot(data=y)\n",
        "#sns.color_palette(\"husl\",8)\n",
        "print(\"Class 0:Real\",'\\t',\"Class 1:Fake\")\n",
        "plt.show()"
      ],
      "execution_count": null,
      "outputs": [
        {
          "output_type": "stream",
          "name": "stdout",
          "text": [
            "Class 0:Real \t Class 1:Fake\n"
          ]
        },
        {
          "output_type": "display_data",
          "data": {
            "image/png": "[encoded data removed]",
            "text/plain": [
              "<Figure size 360x360 with 1 Axes>"
            ]
          },
          "metadata": {
            "needs_background": "light"
          }
        }
      ]
    },
    {
      "cell_type": "code",
      "metadata": {
        "id": "qTVv0XBUxRO4"
      },
      "source": [
        "x_train,x_test,y_train,y_test= train_test_split(x,y,test_size=0.30,random_state=0)"
      ],
      "execution_count": null,
      "outputs": []
    },
    {
      "cell_type": "code",
      "metadata": {
        "id": "Oxw4sTAbxpbm",
        "colab": {
          "base_uri": "https://localhost:8080/"
        },
        "outputId": "0905ad8c-21b8-4eeb-ba0d-b468167104ee"
      },
      "source": [
        "reglog=LogisticRegression()\n",
        "reglog.fit(x_train,y_train)\n",
        "reglog.get_params()"
      ],
      "execution_count": null,
      "outputs": [
        {
          "output_type": "execute_result",
          "data": {
            "text/plain": [
              "{'C': 1.0,\n",
              " 'class_weight': None,\n",
              " 'dual': False,\n",
              " 'fit_intercept': True,\n",
              " 'intercept_scaling': 1,\n",
              " 'l1_ratio': None,\n",
              " 'max_iter': 100,\n",
              " 'multi_class': 'auto',\n",
              " 'n_jobs': None,\n",
              " 'penalty': 'l2',\n",
              " 'random_state': None,\n",
              " 'solver': 'lbfgs',\n",
              " 'tol': 0.0001,\n",
              " 'verbose': 0,\n",
              " 'warm_start': False}"
            ]
          },
          "metadata": {},
          "execution_count": 8
        }
      ]
    },
    {
      "cell_type": "code",
      "metadata": {
        "id": "3L4A_huayLt1"
      },
      "source": [
        "predx=reglog.predict(x_test)"
      ],
      "execution_count": null,
      "outputs": []
    },
    {
      "cell_type": "code",
      "metadata": {
        "id": "3hRgbp11AQRA",
        "colab": {
          "base_uri": "https://localhost:8080/"
        },
        "outputId": "dfbc44f9-7b4a-4276-9646-5fa629191feb"
      },
      "source": [
        "print(\"What was the classification Rate\",accuracy_score(y_test, predx))\n",
        "print(\"Proportion of positive identifications was actually correct?\",precision_score(y_test, predx))\n",
        "print(\"Proportion of actual positives was identified correctly?\",recall_score(y_test, predx))"
      ],
      "execution_count": null,
      "outputs": [
        {
          "output_type": "stream",
          "name": "stdout",
          "text": [
            "What was the classification Rate 1.0\n",
            "Proportion of positive identifications was actually correct? 1.0\n",
            "Proportion of actual positives was identified correctly? 1.0\n"
          ]
        }
      ]
    }
  ]
}